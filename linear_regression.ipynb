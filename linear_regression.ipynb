{
 "cells": [
  {
   "cell_type": "code",
   "execution_count": 14,
   "metadata": {},
   "outputs": [],
   "source": [
    "import numpy as np\n",
    "import random"
   ]
  },
  {
   "cell_type": "code",
   "execution_count": 15,
   "metadata": {},
   "outputs": [],
   "source": [
    "# sample dataset. \n",
    "# Feature is number of rooms in house.\n",
    "# Label is price of house.\n",
    "features = np.array([1,2,3,5,6,7])\n",
    "labels = np.array([155, 197, 244, 356, 407, 448])"
   ]
  },
  {
   "cell_type": "code",
   "execution_count": 16,
   "metadata": {},
   "outputs": [],
   "source": [
    "# We need to fit the linear regression line to predict the price of unknown house using its feature"
   ]
  },
  {
   "cell_type": "code",
   "execution_count": 17,
   "metadata": {},
   "outputs": [],
   "source": [
    "# Square trick\n",
    "# Equation : y = mx * b\n",
    "def square_trick(base_price,price_per_room,num_of_rooms,actual_price,learning_rate):\n",
    "    # Base_price is baise is model -- > b\n",
    "    # price_per_room is sloop -- > m [weight of specific feature]\n",
    "    y_hat = price_per_room*num_of_rooms + base_price\n",
    "    base_price += learning_rate*(actual_price-y_hat)\n",
    "    price_per_room += learning_rate*num_of_rooms*(actual_price-y_hat)\n",
    "    return price_per_room,base_price"
   ]
  },
  {
   "cell_type": "code",
   "execution_count": 18,
   "metadata": {},
   "outputs": [],
   "source": [
    "# Absolute Trick\n",
    "def absolute_trick(base_price,price_per_room,num_of_rooms,actual_price,learning_rate):\n",
    "    y_hat = price_per_room*num_of_rooms + base_price\n",
    "    if actual_price > y_hat:\n",
    "        price_per_room += learning_rate*num_of_rooms\n",
    "        base_price += learning_rate\n",
    "    else:\n",
    "        price_per_room -= learning_rate*num_of_rooms\n",
    "        base_price -= learning_rate\n",
    "    return price_per_room,base_price"
   ]
  },
  {
   "cell_type": "code",
   "execution_count": 23,
   "metadata": {},
   "outputs": [],
   "source": [
    "def linear_regression(features,labels,learning_rate=0.01,epochs=1000):\n",
    "    price_per_room = random.random()\n",
    "    base_price = random.random()\n",
    "    for epoch in range(epochs):\n",
    "        i = random.randint(0,len(features)-1)\n",
    "        num_rooms = features[i]\n",
    "        actual_price = labels[i]\n",
    "        price_per_room,base_price = square_trick(base_price,price_per_room,num_rooms,actual_price,learning_rate)\n",
    "\n",
    "    return price_per_room,base_price"
   ]
  },
  {
   "cell_type": "code",
   "execution_count": 28,
   "metadata": {},
   "outputs": [],
   "source": [
    "price_per_room,base_price = linear_regression(features,labels)"
   ]
  },
  {
   "cell_type": "code",
   "execution_count": 29,
   "metadata": {},
   "outputs": [
    {
     "data": {
      "text/plain": [
       "(51.97469465919677, 90.3880843099176)"
      ]
     },
     "execution_count": 29,
     "metadata": {},
     "output_type": "execute_result"
    }
   ],
   "source": [
    "price_per_room,base_price"
   ]
  },
  {
   "cell_type": "code",
   "execution_count": null,
   "metadata": {},
   "outputs": [],
   "source": []
  }
 ],
 "metadata": {
  "kernelspec": {
   "display_name": "office",
   "language": "python",
   "name": "python3"
  },
  "language_info": {
   "codemirror_mode": {
    "name": "ipython",
    "version": 3
   },
   "file_extension": ".py",
   "mimetype": "text/x-python",
   "name": "python",
   "nbconvert_exporter": "python",
   "pygments_lexer": "ipython3",
   "version": "3.9.7"
  },
  "orig_nbformat": 4,
  "vscode": {
   "interpreter": {
    "hash": "2395f8fb03ee74f54bbdf24fba87bd084f099215c93be6b9e11f1f4162336c95"
   }
  }
 },
 "nbformat": 4,
 "nbformat_minor": 2
}
