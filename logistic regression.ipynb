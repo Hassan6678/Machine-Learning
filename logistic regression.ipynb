{
 "cells": [
  {
   "cell_type": "code",
   "execution_count": 1,
   "metadata": {},
   "outputs": [],
   "source": [
    "import numpy as np\n",
    "features = np.array([[1,0],[0,2],[1,1],[1,2],[1,3],[2,2],[2,3],[3,2]])\n",
    "labels = np.array([0,0,0,0,1,1,1,1])"
   ]
  },
  {
   "cell_type": "code",
   "execution_count": 3,
   "metadata": {},
   "outputs": [],
   "source": [
    "def sigmoid(x): # this is our step function\n",
    "    return np.exp(x)/(1+np.exp(x))\n",
    "def score(weights, bias, features):\n",
    "    return np.dot(weights, features) + bias\n",
    "def prediction(weights, bias, features):\n",
    "    return sigmoid(score(weights, bias, features))"
   ]
  },
  {
   "cell_type": "code",
   "execution_count": 4,
   "metadata": {},
   "outputs": [],
   "source": [
    "# log loss = –y ln(yˆ) – (1 – y) ln(1 – y)\n",
    "def log_loss(weights, bias, features, label):\n",
    "    pred = prediction(weights, bias, features)\n",
    "    return -label*np.log(pred) - (1-label)*np.log(1-pred)"
   ]
  },
  {
   "cell_type": "code",
   "execution_count": null,
   "metadata": {},
   "outputs": [],
   "source": [
    "def total_log_loss(weights, bias, features, labels):\n",
    "    total_error = 0\n",
    "    for i in range(len(features)):\n",
    "        total_error += log_loss(weights, bias, features[i], labels[i])\n",
    "    return total_error"
   ]
  }
 ],
 "metadata": {
  "kernelspec": {
   "display_name": "Python 3",
   "language": "python",
   "name": "python3"
  },
  "language_info": {
   "codemirror_mode": {
    "name": "ipython",
    "version": 3
   },
   "file_extension": ".py",
   "mimetype": "text/x-python",
   "name": "python",
   "nbconvert_exporter": "python",
   "pygments_lexer": "ipython3",
   "version": "3.7.1"
  },
  "orig_nbformat": 4,
  "vscode": {
   "interpreter": {
    "hash": "753cedd98399b984ff7ce64c091fff2e66dee429919726e503dc47428fd50bcd"
   }
  }
 },
 "nbformat": 4,
 "nbformat_minor": 2
}
