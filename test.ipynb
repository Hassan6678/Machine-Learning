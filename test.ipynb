{
 "cells": [
  {
   "cell_type": "code",
   "execution_count": 1,
   "metadata": {},
   "outputs": [],
   "source": [
    "import os, random\n",
    "from moviepy.video.io.VideoFileClip import VideoFileClip\n",
    "from moviepy.video.fx.all import *"
   ]
  },
  {
   "cell_type": "code",
   "execution_count": 2,
   "metadata": {},
   "outputs": [],
   "source": [
    "# specify input video file path\n",
    "input_file = 'D:\\MOVIES\\Thor Love And Thunde 2022 [Hindi-English].mkv'\n",
    "\n",
    "# specify output folder to save split videos\n",
    "output_folder = './output/'\n",
    "\n",
    "# specify duration of each split video (in seconds)\n",
    "split_duration = 420\n",
    "\n",
    "# specify noise intensity\n",
    "noise_intensity = 0.05"
   ]
  },
  {
   "cell_type": "code",
   "execution_count": null,
   "metadata": {},
   "outputs": [],
   "source": [
    "# create VideoFileClip object from input video\n",
    "clip = VideoFileClip(input_file)\n",
    "\n",
    "# calculate total duration of input video (in seconds)\n",
    "total_duration = clip.duration\n",
    "\n",
    "# calculate number of split videos required\n",
    "num_splits = int(total_duration / split_duration) + 1\n",
    "\n",
    "# loop through each split and save as separate mp4 file\n",
    "for i in range(num_splits):\n",
    "    # calculate start and end time for this split\n",
    "    start_time = i * split_duration\n",
    "    end_time = min((i + 1) * split_duration, total_duration)\n",
    "    \n",
    "    # extract video clip for this split\n",
    "    subclip = clip.subclip(start_time, end_time)\n",
    "    \n",
    "    # specify output file name for this split\n",
    "    output_file = os.path.join(output_folder, f'split_{i}.mp4')\n",
    "    \n",
    "    # write subclip to output file\n",
    "    subclip.write_videofile(output_file, codec='libx264')\n",
    "    \n",
    "    # close subclip object to free up memory\n",
    "    subclip.close()\n",
    "    break\n",
    "\n",
    "# close input clip object to free up memory\n",
    "clip.close()\n",
    "\n",
    "# print message when all splits are saved\n",
    "print(f'{num_splits} split videos saved in {output_folder}')\n"
   ]
  },
  {
   "cell_type": "code",
   "execution_count": 3,
   "metadata": {},
   "outputs": [],
   "source": [
    "import os\n",
    "import random\n",
    "import cv2\n",
    "from moviepy.video.io.VideoFileClip import VideoFileClip\n",
    "from moviepy.video.tools.cuts import find_video_period\n",
    "\n",
    "# create VideoFileClip object from input video\n",
    "clip = VideoFileClip(input_file)\n",
    "\n",
    "# calculate total duration of input video (in seconds)\n",
    "total_duration = clip.duration\n",
    "\n",
    "# calculate number of split videos required\n",
    "num_splits = int(total_duration / split_duration) + 1\n",
    "\n",
    "# calculate period of video for the find_video_period function\n",
    "period = find_video_period(clip)\n",
    "\n",
    "# loop through each split and save as separate mp4 file\n",
    "for i in range(num_splits):\n",
    "    # calculate start and end time for this split\n",
    "    start_time = i * split_duration\n",
    "    end_time = min((i + 1) * split_duration, total_duration)\n",
    "    \n",
    "    # extract video clip for this split\n",
    "    subclip = clip.subclip(start_time, end_time)\n",
    "    \n",
    "    # add horizontal flip effect to some frames\n",
    "    flipped = [subclip.fl_image(lambda frame: cv2.flip(frame, 1)) if random.random() < 0.2 else subclip]\n",
    "    \n",
    "    # add random noise effect to all frames\n",
    "    noisy = [cv2.addWeighted(frame, 1 - noise_intensity, \n",
    "                             noise_intensity * cv2.randn(frame.shape, 0, 255), 0, 0) for frame in flipped]\n",
    "\n",
    "    # specify output file name for this split\n",
    "    output_file = os.path.join(output_folder, f'split_{i}.mp4')\n",
    "    \n",
    "    # concatenate modified video frames and write to output file\n",
    "    output_frames = [frame[:, :, ::-1] for frame in noisy]\n",
    "    output_clip = ImageSequenceClip(output_frames, fps=clip.fps)\n",
    "    output_clip.write_videofile(output_file, codec='libx264')\n",
    "    \n",
    "    # close subclip and output_clip objects to free up memory\n",
    "    subclip.close()\n",
    "    output_clip.close()\n",
    "    break\n",
    "\n",
    "# close input clip object to free up memory\n",
    "clip.close()\n",
    "\n",
    "# print message when all splits are saved\n",
    "print(f'{num_splits} split videos saved in {output_folder}')\n"
   ]
  },
  {
   "cell_type": "code",
   "execution_count": null,
   "metadata": {},
   "outputs": [],
   "source": []
  }
 ],
 "metadata": {
  "kernelspec": {
   "display_name": "py10",
   "language": "python",
   "name": "python3"
  },
  "language_info": {
   "codemirror_mode": {
    "name": "ipython",
    "version": 3
   },
   "file_extension": ".py",
   "mimetype": "text/x-python",
   "name": "python",
   "nbconvert_exporter": "python",
   "pygments_lexer": "ipython3",
   "version": "3.10.8"
  },
  "orig_nbformat": 4,
  "vscode": {
   "interpreter": {
    "hash": "4edd50da196da83caad0beeae9569effb90e365f01cc1357fcc4fa663980baea"
   }
  }
 },
 "nbformat": 4,
 "nbformat_minor": 2
}
