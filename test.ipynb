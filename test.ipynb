{
 "cells": [
  {
   "cell_type": "code",
   "execution_count": 5,
   "metadata": {},
   "outputs": [],
   "source": [
    "import os, random\n",
    "from moviepy.video.io.VideoFileClip import VideoFileClip\n",
    "from moviepy.video.fx.all import *"
   ]
  },
  {
   "cell_type": "code",
   "execution_count": 6,
   "metadata": {},
   "outputs": [],
   "source": [
    "# specify input video file path\n",
    "input_file = 'D:\\MOVIES\\Thor Love And Thunde 2022 [Hindi-English].mkv'\n",
    "\n",
    "# specify output folder to save split videos\n",
    "output_folder = './output/'\n",
    "\n",
    "# specify duration of each split video (in seconds)\n",
    "split_duration = 420\n",
    "\n",
    "# specify noise intensity\n",
    "noise_intensity = 0.05"
   ]
  },
  {
   "cell_type": "code",
   "execution_count": null,
   "metadata": {},
   "outputs": [],
   "source": [
    "# create output folder if it doesn't exist\n",
    "if not os.path.exists(output_folder):\n",
    "    os.makedirs(output_folder)\n",
    "\n",
    "# create VideoFileClip object from input video\n",
    "clip = VideoFileClip(input_file)\n",
    "\n",
    "# calculate total duration of input video (in seconds)\n",
    "total_duration = clip.duration\n",
    "\n",
    "# calculate number of split videos required\n",
    "num_splits = int(total_duration / split_duration) + 1\n",
    "\n",
    "# loop through each split and save as separate mp4 file\n",
    "for i in range(num_splits):\n",
    "    # calculate start and end time for this split\n",
    "    start_time = i * split_duration\n",
    "    end_time = min((i + 1) * split_duration, total_duration)\n",
    "    \n",
    "    # extract video clip for this split\n",
    "    subclip = clip.subclip(start_time, end_time)\n",
    "    \n",
    "    # add horizontal flip effect to some frames\n",
    "    flipped = [subclip.fl_image(lambda frame: frame[:, ::-1]) if random.random() < 0.2 else subclip]\n",
    "    \n",
    "    # add random noise effect to all frames\n",
    "    noisy = [vfx.lum_contrast(gaussian_noise(f, noise_intensity), lum=1.2, contrast=1.2) for f in flipped]\n",
    "\n",
    "    # specify output file name for this split\n",
    "    output_file = os.path.join(output_folder, f'split_{i}.mp4')\n",
    "    \n",
    "    # concatenate modified video clips and write to output file\n",
    "    concat_clip = concatenate_videoclips(noisy)\n",
    "    concat_clip.write_videofile(output_file, codec='libx264')\n",
    "    \n",
    "    # close subclip and concat_clip objects to free up memory\n",
    "    subclip.close()\n",
    "    concat_clip.close()\n",
    "    break\n",
    "\n",
    "# close input clip object to free up memory\n",
    "clip.close()\n",
    "\n",
    "# print message when all splits are saved\n",
    "print(f'{num_splits} split videos saved in {output_folder}')\n"
   ]
  },
  {
   "cell_type": "code",
   "execution_count": 8,
   "metadata": {},
   "outputs": [
    {
     "ename": "NameError",
     "evalue": "name 'gaussian_noise' is not defined",
     "output_type": "error",
     "traceback": [
      "\u001b[1;31m---------------------------------------------------------------------------\u001b[0m",
      "\u001b[1;31mNameError\u001b[0m                                 Traceback (most recent call last)",
      "Cell \u001b[1;32mIn [8], line 28\u001b[0m\n\u001b[0;32m     25\u001b[0m flipped \u001b[39m=\u001b[39m [subclip\u001b[39m.\u001b[39mfl_image(\u001b[39mlambda\u001b[39;00m frame: frame[:, ::\u001b[39m-\u001b[39m\u001b[39m1\u001b[39m]) \u001b[39mif\u001b[39;00m random\u001b[39m.\u001b[39mrandom() \u001b[39m<\u001b[39m \u001b[39m0.2\u001b[39m \u001b[39melse\u001b[39;00m subclip]\n\u001b[0;32m     27\u001b[0m \u001b[39m# add random noise effect to all frames\u001b[39;00m\n\u001b[1;32m---> 28\u001b[0m noisy \u001b[39m=\u001b[39m [lum_contrast(gaussian_noise(f, noise_intensity), lum\u001b[39m=\u001b[39m\u001b[39m1.2\u001b[39m, contrast\u001b[39m=\u001b[39m\u001b[39m1.2\u001b[39m) \u001b[39mfor\u001b[39;00m f \u001b[39min\u001b[39;00m flipped]\n\u001b[0;32m     30\u001b[0m \u001b[39m# specify output file name for this split\u001b[39;00m\n\u001b[0;32m     31\u001b[0m output_file \u001b[39m=\u001b[39m os\u001b[39m.\u001b[39mpath\u001b[39m.\u001b[39mjoin(output_folder, \u001b[39mf\u001b[39m\u001b[39m'\u001b[39m\u001b[39msplit_\u001b[39m\u001b[39m{\u001b[39;00mi\u001b[39m}\u001b[39;00m\u001b[39m.mp4\u001b[39m\u001b[39m'\u001b[39m)\n",
      "Cell \u001b[1;32mIn [8], line 28\u001b[0m, in \u001b[0;36m<listcomp>\u001b[1;34m(.0)\u001b[0m\n\u001b[0;32m     25\u001b[0m flipped \u001b[39m=\u001b[39m [subclip\u001b[39m.\u001b[39mfl_image(\u001b[39mlambda\u001b[39;00m frame: frame[:, ::\u001b[39m-\u001b[39m\u001b[39m1\u001b[39m]) \u001b[39mif\u001b[39;00m random\u001b[39m.\u001b[39mrandom() \u001b[39m<\u001b[39m \u001b[39m0.2\u001b[39m \u001b[39melse\u001b[39;00m subclip]\n\u001b[0;32m     27\u001b[0m \u001b[39m# add random noise effect to all frames\u001b[39;00m\n\u001b[1;32m---> 28\u001b[0m noisy \u001b[39m=\u001b[39m [lum_contrast(gaussian_noise(f, noise_intensity), lum\u001b[39m=\u001b[39m\u001b[39m1.2\u001b[39m, contrast\u001b[39m=\u001b[39m\u001b[39m1.2\u001b[39m) \u001b[39mfor\u001b[39;00m f \u001b[39min\u001b[39;00m flipped]\n\u001b[0;32m     30\u001b[0m \u001b[39m# specify output file name for this split\u001b[39;00m\n\u001b[0;32m     31\u001b[0m output_file \u001b[39m=\u001b[39m os\u001b[39m.\u001b[39mpath\u001b[39m.\u001b[39mjoin(output_folder, \u001b[39mf\u001b[39m\u001b[39m'\u001b[39m\u001b[39msplit_\u001b[39m\u001b[39m{\u001b[39;00mi\u001b[39m}\u001b[39;00m\u001b[39m.mp4\u001b[39m\u001b[39m'\u001b[39m)\n",
      "\u001b[1;31mNameError\u001b[0m: name 'gaussian_noise' is not defined"
     ]
    }
   ],
   "source": [
    "import os\n",
    "import random\n",
    "from moviepy.video.io.VideoFileClip import VideoFileClip\n",
    "from moviepy.video.fx.all import *\n",
    "\n",
    "# create VideoFileClip object from input video\n",
    "clip = VideoFileClip(input_file)\n",
    "\n",
    "# calculate total duration of input video (in seconds)\n",
    "total_duration = clip.duration\n",
    "\n",
    "# calculate number of split videos required\n",
    "num_splits = int(total_duration / split_duration) + 1\n",
    "\n",
    "# loop through each split and save as separate mp4 file\n",
    "for i in range(num_splits):\n",
    "    # calculate start and end time for this split\n",
    "    start_time = i * split_duration\n",
    "    end_time = min((i + 1) * split_duration, total_duration)\n",
    "    \n",
    "    # extract video clip for this split\n",
    "    subclip = clip.subclip(start_time, end_time)\n",
    "    \n",
    "    # add horizontal flip effect to some frames\n",
    "    flipped = [subclip.fl_image(lambda frame: frame[:, ::-1]) if random.random() < 0.2 else subclip]\n",
    "    \n",
    "    # add random noise effect to all frames\n",
    "    noisy = [lum_contrast(gaussian_noise(f, noise_intensity), lum=1.2, contrast=1.2) for f in flipped]\n",
    "\n",
    "    # specify output file name for this split\n",
    "    output_file = os.path.join(output_folder, f'split_{i}.mp4')\n",
    "    \n",
    "    # concatenate modified video clips and write to output file\n",
    "    concat_clip = concatenate_videoclips(noisy)\n",
    "    concat_clip.write_videofile(output_file, codec='libx264')\n",
    "    \n",
    "    # close subclip and concat_clip objects to free up memory\n",
    "    subclip.close()\n",
    "    concat_clip.close()\n",
    "\n",
    "# close input clip object to free up memory\n",
    "clip.close()\n",
    "\n",
    "# print message when all splits are saved\n",
    "print(f'{num_splits} split videos saved in {output_folder}')\n"
   ]
  },
  {
   "cell_type": "code",
   "execution_count": null,
   "metadata": {},
   "outputs": [],
   "source": []
  }
 ],
 "metadata": {
  "kernelspec": {
   "display_name": "py10",
   "language": "python",
   "name": "python3"
  },
  "language_info": {
   "codemirror_mode": {
    "name": "ipython",
    "version": 3
   },
   "file_extension": ".py",
   "mimetype": "text/x-python",
   "name": "python",
   "nbconvert_exporter": "python",
   "pygments_lexer": "ipython3",
   "version": "3.10.8"
  },
  "orig_nbformat": 4,
  "vscode": {
   "interpreter": {
    "hash": "4edd50da196da83caad0beeae9569effb90e365f01cc1357fcc4fa663980baea"
   }
  }
 },
 "nbformat": 4,
 "nbformat_minor": 2
}
