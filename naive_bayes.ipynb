{
 "cells": [
  {
   "cell_type": "code",
   "execution_count": 1,
   "metadata": {},
   "outputs": [],
   "source": [
    "import pandas as pd\n",
    "import numpy as np"
   ]
  },
  {
   "cell_type": "code",
   "execution_count": 2,
   "metadata": {},
   "outputs": [
    {
     "data": {
      "text/html": [
       "<div>\n",
       "<style scoped>\n",
       "    .dataframe tbody tr th:only-of-type {\n",
       "        vertical-align: middle;\n",
       "    }\n",
       "\n",
       "    .dataframe tbody tr th {\n",
       "        vertical-align: top;\n",
       "    }\n",
       "\n",
       "    .dataframe thead th {\n",
       "        text-align: right;\n",
       "    }\n",
       "</style>\n",
       "<table border=\"1\" class=\"dataframe\">\n",
       "  <thead>\n",
       "    <tr style=\"text-align: right;\">\n",
       "      <th></th>\n",
       "      <th>text</th>\n",
       "      <th>spam</th>\n",
       "    </tr>\n",
       "  </thead>\n",
       "  <tbody>\n",
       "    <tr>\n",
       "      <th>0</th>\n",
       "      <td>Subject: naturally irresistible your corporate...</td>\n",
       "      <td>1</td>\n",
       "    </tr>\n",
       "    <tr>\n",
       "      <th>1</th>\n",
       "      <td>Subject: the stock trading gunslinger  fanny i...</td>\n",
       "      <td>1</td>\n",
       "    </tr>\n",
       "    <tr>\n",
       "      <th>2</th>\n",
       "      <td>Subject: unbelievable new homes made easy  im ...</td>\n",
       "      <td>1</td>\n",
       "    </tr>\n",
       "    <tr>\n",
       "      <th>3</th>\n",
       "      <td>Subject: 4 color printing special  request add...</td>\n",
       "      <td>1</td>\n",
       "    </tr>\n",
       "    <tr>\n",
       "      <th>4</th>\n",
       "      <td>Subject: do not have money , get software cds ...</td>\n",
       "      <td>1</td>\n",
       "    </tr>\n",
       "  </tbody>\n",
       "</table>\n",
       "</div>"
      ],
      "text/plain": [
       "                                                text  spam\n",
       "0  Subject: naturally irresistible your corporate...     1\n",
       "1  Subject: the stock trading gunslinger  fanny i...     1\n",
       "2  Subject: unbelievable new homes made easy  im ...     1\n",
       "3  Subject: 4 color printing special  request add...     1\n",
       "4  Subject: do not have money , get software cds ...     1"
      ]
     },
     "execution_count": 2,
     "metadata": {},
     "output_type": "execute_result"
    }
   ],
   "source": [
    "df = pd.read_csv('./helping/Chapter_8_Naive_Bayes/emails.csv')\n",
    "df.head()"
   ]
  },
  {
   "cell_type": "code",
   "execution_count": 3,
   "metadata": {},
   "outputs": [
    {
     "data": {
      "text/html": [
       "<div>\n",
       "<style scoped>\n",
       "    .dataframe tbody tr th:only-of-type {\n",
       "        vertical-align: middle;\n",
       "    }\n",
       "\n",
       "    .dataframe tbody tr th {\n",
       "        vertical-align: top;\n",
       "    }\n",
       "\n",
       "    .dataframe thead th {\n",
       "        text-align: right;\n",
       "    }\n",
       "</style>\n",
       "<table border=\"1\" class=\"dataframe\">\n",
       "  <thead>\n",
       "    <tr style=\"text-align: right;\">\n",
       "      <th></th>\n",
       "      <th>text</th>\n",
       "      <th>spam</th>\n",
       "      <th>words</th>\n",
       "    </tr>\n",
       "  </thead>\n",
       "  <tbody>\n",
       "    <tr>\n",
       "      <th>4381</th>\n",
       "      <td>Subject: avg . monthly electricity prices for ...</td>\n",
       "      <td>0</td>\n",
       "      <td>[transactions, research, 4305, converted, also...</td>\n",
       "    </tr>\n",
       "    <tr>\n",
       "      <th>377</th>\n",
       "      <td>Subject: x 2 o automated wealth builder .  511...</td>\n",
       "      <td>1</td>\n",
       "      <td>[alkaline, alkalinity, stop, ph, dear, 45, jus...</td>\n",
       "    </tr>\n",
       "    <tr>\n",
       "      <th>3263</th>\n",
       "      <td>Subject: joao neves  dear vince :  ?  i am in ...</td>\n",
       "      <td>0</td>\n",
       "      <td>[feels, grant, obligations, lots, shoddy, also...</td>\n",
       "    </tr>\n",
       "    <tr>\n",
       "      <th>4343</th>\n",
       "      <td>Subject: re : credit . com cv ' s  my feedback...</td>\n",
       "      <td>0</td>\n",
       "      <td>[traders, ve, specific, 46, end, shirley, seyf...</td>\n",
       "    </tr>\n",
       "  </tbody>\n",
       "</table>\n",
       "</div>"
      ],
      "text/plain": [
       "                                                   text  spam  \\\n",
       "4381  Subject: avg . monthly electricity prices for ...     0   \n",
       "377   Subject: x 2 o automated wealth builder .  511...     1   \n",
       "3263  Subject: joao neves  dear vince :  ?  i am in ...     0   \n",
       "4343  Subject: re : credit . com cv ' s  my feedback...     0   \n",
       "\n",
       "                                                  words  \n",
       "4381  [transactions, research, 4305, converted, also...  \n",
       "377   [alkaline, alkalinity, stop, ph, dear, 45, jus...  \n",
       "3263  [feels, grant, obligations, lots, shoddy, also...  \n",
       "4343  [traders, ve, specific, 46, end, shirley, seyf...  "
      ]
     },
     "execution_count": 3,
     "metadata": {},
     "output_type": "execute_result"
    }
   ],
   "source": [
    "def process_email(text):\n",
    "    return list(set(text.split()))\n",
    "df['words'] = df['text'].apply(process_email)\n",
    "df.sample(4)"
   ]
  },
  {
   "cell_type": "code",
   "execution_count": 4,
   "metadata": {},
   "outputs": [],
   "source": [
    "## here we make a basic model of Naive Bayes..\n",
    "## count every word against spam and ham and store each word into dict.\n",
    "model = {}\n",
    "for index, email in df.iterrows():\n",
    "    for word in email['words']:\n",
    "        if word not in model:\n",
    "            model[word] = {'spam' : 1, 'ham' : 1}\n",
    "        if email['spam']:\n",
    "            model[word]['spam'] += 1\n",
    "        else:\n",
    "            model[word]['ham'] += 1 "
   ]
  },
  {
   "cell_type": "code",
   "execution_count": 5,
   "metadata": {},
   "outputs": [
    {
     "data": {
      "text/plain": [
       "({'spam': 9, 'ham': 1}, {'spam': 98, 'ham': 78}, {'spam': 25, 'ham': 112})"
      ]
     },
     "execution_count": 5,
     "metadata": {},
     "output_type": "execute_result"
    }
   ],
   "source": [
    "model['lottery'], model['sales'], model['maybe']"
   ]
  },
  {
   "cell_type": "code",
   "execution_count": 8,
   "metadata": {},
   "outputs": [],
   "source": [
    "def naive_bayes(email):\n",
    "    total = len(df)\n",
    "    total_spam = sum(df['spam'])\n",
    "    total_ham = total - total_spam\n",
    "\n",
    "    email = email.lower()\n",
    "    words = list(set(email.split()))\n",
    "    spam = [1.0]; ham = [1.0]\n",
    "    for word in words:\n",
    "        if word in model:\n",
    "            spam.append(model[word]['spam']/total_spam*total)\n",
    "            ham.append(model[word]['ham']/total_ham*total)\n",
    "    prod_spams = np.compat.long(np.prod(spam)*total_spam)\n",
    "    prod_hams = np.compat.long(np.prod(ham)*total_ham)\n",
    "    return prod_spams/(prod_spams + prod_hams)"
   ]
  },
  {
   "cell_type": "code",
   "execution_count": 11,
   "metadata": {},
   "outputs": [
    {
     "data": {
      "text/plain": [
       "0.965499671763819"
      ]
     },
     "execution_count": 11,
     "metadata": {},
     "output_type": "execute_result"
    }
   ],
   "source": [
    "naive_bayes('I want to sales this product and after that I will buy lottery')"
   ]
  },
  {
   "cell_type": "code",
   "execution_count": 20,
   "metadata": {},
   "outputs": [
    {
     "data": {
      "text/plain": [
       "0"
      ]
     },
     "execution_count": 20,
     "metadata": {},
     "output_type": "execute_result"
    }
   ],
   "source": [
    "np.compat.long(np.prod([1,2,3,4])/32)"
   ]
  },
  {
   "cell_type": "code",
   "execution_count": null,
   "metadata": {},
   "outputs": [],
   "source": []
  }
 ],
 "metadata": {
  "kernelspec": {
   "display_name": "py10",
   "language": "python",
   "name": "python3"
  },
  "language_info": {
   "codemirror_mode": {
    "name": "ipython",
    "version": 3
   },
   "file_extension": ".py",
   "mimetype": "text/x-python",
   "name": "python",
   "nbconvert_exporter": "python",
   "pygments_lexer": "ipython3",
   "version": "3.10.8"
  },
  "orig_nbformat": 4,
  "vscode": {
   "interpreter": {
    "hash": "4edd50da196da83caad0beeae9569effb90e365f01cc1357fcc4fa663980baea"
   }
  }
 },
 "nbformat": 4,
 "nbformat_minor": 2
}
